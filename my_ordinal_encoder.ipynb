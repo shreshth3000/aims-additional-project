{
 "cells": [
  {
   "cell_type": "markdown",
   "id": "df0c56e4-0b88-4585-92ca-40241f7d0228",
   "metadata": {},
   "source": [
    "# ADDITIONAL PROJECT"
   ]
  },
  {
   "cell_type": "code",
   "execution_count": 2,
   "id": "e8ae02d9-cd52-41c3-a1f6-f1dd30b9b5c3",
   "metadata": {},
   "outputs": [],
   "source": [
    "import pandas as pd\n",
    "import numpy as np"
   ]
  },
  {
   "cell_type": "code",
   "execution_count": 899,
   "id": "aee32251-d040-4f7d-8f4f-e94600787ed9",
   "metadata": {},
   "outputs": [],
   "source": [
    "my_series={\"A\":[\"k\",\"k\",\"l\"],\"B\":[\"x\",\"y\",\"z\"],\"C\":[7,8,9]}\n",
    "\n",
    "my_data=pd.DataFrame(my_series,index=[\"a\",\"b\",\"c\"])"
   ]
  },
  {
   "cell_type": "code",
   "execution_count": 901,
   "id": "18470ebd-b052-4c34-a20c-f43c6e44e1b8",
   "metadata": {},
   "outputs": [
    {
     "data": {
      "text/html": [
       "<div>\n",
       "<style scoped>\n",
       "    .dataframe tbody tr th:only-of-type {\n",
       "        vertical-align: middle;\n",
       "    }\n",
       "\n",
       "    .dataframe tbody tr th {\n",
       "        vertical-align: top;\n",
       "    }\n",
       "\n",
       "    .dataframe thead th {\n",
       "        text-align: right;\n",
       "    }\n",
       "</style>\n",
       "<table border=\"1\" class=\"dataframe\">\n",
       "  <thead>\n",
       "    <tr style=\"text-align: right;\">\n",
       "      <th></th>\n",
       "      <th>A</th>\n",
       "      <th>B</th>\n",
       "      <th>C</th>\n",
       "    </tr>\n",
       "  </thead>\n",
       "  <tbody>\n",
       "    <tr>\n",
       "      <th>a</th>\n",
       "      <td>k</td>\n",
       "      <td>x</td>\n",
       "      <td>7</td>\n",
       "    </tr>\n",
       "    <tr>\n",
       "      <th>b</th>\n",
       "      <td>k</td>\n",
       "      <td>y</td>\n",
       "      <td>8</td>\n",
       "    </tr>\n",
       "    <tr>\n",
       "      <th>c</th>\n",
       "      <td>l</td>\n",
       "      <td>z</td>\n",
       "      <td>9</td>\n",
       "    </tr>\n",
       "  </tbody>\n",
       "</table>\n",
       "</div>"
      ],
      "text/plain": [
       "   A  B  C\n",
       "a  k  x  7\n",
       "b  k  y  8\n",
       "c  l  z  9"
      ]
     },
     "execution_count": 901,
     "metadata": {},
     "output_type": "execute_result"
    }
   ],
   "source": [
    "my_data"
   ]
  },
  {
   "cell_type": "code",
   "execution_count": 927,
   "id": "b5d140a1-4d2a-43d1-8f0b-aa95b2da02a4",
   "metadata": {},
   "outputs": [],
   "source": [
    "class my_ordinal_encoder:\n",
    "    def __init__(self,df):\n",
    "        self.df=df\n",
    "    \n",
    "    def encode(self):\n",
    "        object_types=(self.df.dtypes=='object')\n",
    "        categorical_variables=list(object_types[object_types].index)\n",
    "        l=self.df.loc[:,categorical_variables]\n",
    "        col_vals=[]\n",
    "        for i in range(l.shape[1]):\n",
    "            for j in range(l.shape[0]):\n",
    "                col_vals.append(l.iloc[j,i])\n",
    "        print(col_vals)\n",
    "        seen=[]\n",
    "        for i in range(l.shape[1]):\n",
    "            for j in range(l.shape[0]*l.shape[1]):\n",
    "                if col_vals[j] not in seen:\n",
    "                    seen.append(col_vals[j])\n",
    "                else:\n",
    "                    pass\n",
    "        print(seen)\n",
    "        ordinality={}\n",
    "        for i in seen:\n",
    "            if seen.index(i)==col_vals.index(i):\n",
    "                ordinality[i]=col_vals.index(i)%l.shape[0]\n",
    "            else:\n",
    "                ordinality[i]=seen.index(i)%l.shape[0]\n",
    "        print(ordinality)\n",
    "        l=list(ordinality.keys())\n",
    "        lis=list(ordinality.values())\n",
    "        print(l)\n",
    "        print(lis)\n",
    "        self.df=self.df.replace(l,lis)\n",
    "        self.df.infer_objects(copy=False)\n",
    "        return self.df\n",
    "        "
   ]
  },
  {
   "cell_type": "code",
   "execution_count": 929,
   "id": "07128854-4456-438a-8bc2-b458ac625e28",
   "metadata": {},
   "outputs": [],
   "source": [
    "encoder1=my_ordinal_encoder(my_data)"
   ]
  },
  {
   "cell_type": "code",
   "execution_count": 931,
   "id": "a5d6bed4-1678-41e4-a2b0-fe3305dd122a",
   "metadata": {},
   "outputs": [
    {
     "name": "stdout",
     "output_type": "stream",
     "text": [
      "['k', 'k', 'l', 'x', 'y', 'z']\n",
      "['k', 'l', 'x', 'y', 'z']\n",
      "{'k': 0, 'l': 1, 'x': 2, 'y': 0, 'z': 1}\n",
      "['k', 'l', 'x', 'y', 'z']\n",
      "[0, 1, 2, 0, 1]\n"
     ]
    },
    {
     "name": "stderr",
     "output_type": "stream",
     "text": [
      "C:\\Users\\Shreshth\\AppData\\Local\\Temp\\ipykernel_10724\\3522241092.py:33: FutureWarning: Downcasting behavior in `replace` is deprecated and will be removed in a future version. To retain the old behavior, explicitly call `result.infer_objects(copy=False)`. To opt-in to the future behavior, set `pd.set_option('future.no_silent_downcasting', True)`\n",
      "  self.df=self.df.replace(l,lis)\n"
     ]
    },
    {
     "data": {
      "text/html": [
       "<div>\n",
       "<style scoped>\n",
       "    .dataframe tbody tr th:only-of-type {\n",
       "        vertical-align: middle;\n",
       "    }\n",
       "\n",
       "    .dataframe tbody tr th {\n",
       "        vertical-align: top;\n",
       "    }\n",
       "\n",
       "    .dataframe thead th {\n",
       "        text-align: right;\n",
       "    }\n",
       "</style>\n",
       "<table border=\"1\" class=\"dataframe\">\n",
       "  <thead>\n",
       "    <tr style=\"text-align: right;\">\n",
       "      <th></th>\n",
       "      <th>A</th>\n",
       "      <th>B</th>\n",
       "      <th>C</th>\n",
       "    </tr>\n",
       "  </thead>\n",
       "  <tbody>\n",
       "    <tr>\n",
       "      <th>a</th>\n",
       "      <td>0</td>\n",
       "      <td>2</td>\n",
       "      <td>7</td>\n",
       "    </tr>\n",
       "    <tr>\n",
       "      <th>b</th>\n",
       "      <td>0</td>\n",
       "      <td>0</td>\n",
       "      <td>8</td>\n",
       "    </tr>\n",
       "    <tr>\n",
       "      <th>c</th>\n",
       "      <td>1</td>\n",
       "      <td>1</td>\n",
       "      <td>9</td>\n",
       "    </tr>\n",
       "  </tbody>\n",
       "</table>\n",
       "</div>"
      ],
      "text/plain": [
       "   A  B  C\n",
       "a  0  2  7\n",
       "b  0  0  8\n",
       "c  1  1  9"
      ]
     },
     "execution_count": 931,
     "metadata": {},
     "output_type": "execute_result"
    }
   ],
   "source": [
    "encoder1.encode()"
   ]
  },
  {
   "cell_type": "code",
   "execution_count": null,
   "id": "25600d6c-d547-4bfe-a9f2-f495a7adf05b",
   "metadata": {},
   "outputs": [],
   "source": []
  }
 ],
 "metadata": {
  "kernelspec": {
   "display_name": "Python 3 (ipykernel)",
   "language": "python",
   "name": "python3"
  },
  "language_info": {
   "codemirror_mode": {
    "name": "ipython",
    "version": 3
   },
   "file_extension": ".py",
   "mimetype": "text/x-python",
   "name": "python",
   "nbconvert_exporter": "python",
   "pygments_lexer": "ipython3",
   "version": "3.12.4"
  }
 },
 "nbformat": 4,
 "nbformat_minor": 5
}
