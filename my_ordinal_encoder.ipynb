{
 "cells": [
  {
   "cell_type": "markdown",
   "id": "df0c56e4-0b88-4585-92ca-40241f7d0228",
   "metadata": {},
   "source": [
    "# ADDITIONAL PROJECT"
   ]
  },
  {
   "cell_type": "code",
   "execution_count": 2,
   "id": "e8ae02d9-cd52-41c3-a1f6-f1dd30b9b5c3",
   "metadata": {},
   "outputs": [],
   "source": [
    "import pandas as pd\n",
    "import numpy as np"
   ]
  },
  {
   "cell_type": "code",
   "execution_count": 927,
   "id": "b5d140a1-4d2a-43d1-8f0b-aa95b2da02a4",
   "metadata": {},
   "outputs": [],
   "source": [
    "class my_ordinal_encoder:\n",
    "    def __init__(self,df):\n",
    "        self.df=df\n",
    "    \n",
    "    def encode(self):\n",
    "        object_types=(self.df.dtypes=='object')\n",
    "        categorical_variables=list(object_types[object_types].index)\n",
    "        l=self.df.loc[:,categorical_variables]\n",
    "        col_vals=[]\n",
    "        for i in range(l.shape[1]):\n",
    "            for j in range(l.shape[0]):\n",
    "                col_vals.append(l.iloc[j,i])\n",
    "        print(col_vals)\n",
    "        seen=[]\n",
    "        for i in range(l.shape[1]):\n",
    "            for j in range(l.shape[0]*l.shape[1]):\n",
    "                if col_vals[j] not in seen:\n",
    "                    seen.append(col_vals[j])\n",
    "                else:\n",
    "                    pass\n",
    "        print(seen)\n",
    "        ordinality={}\n",
    "        for i in seen:\n",
    "            if seen.index(i)==col_vals.index(i):\n",
    "                ordinality[i]=col_vals.index(i)%l.shape[0]\n",
    "            else:\n",
    "                ordinality[i]=seen.index(i)%l.shape[0]\n",
    "        print(ordinality)\n",
    "        l=list(ordinality.keys())\n",
    "        lis=list(ordinality.values())\n",
    "        print(l)\n",
    "        print(lis)\n",
    "        self.df=self.df.replace(l,lis)\n",
    "        self.df.infer_objects(copy=False)\n",
    "        return self.df\n",
    "        "
   ]
  }
 ],
 "metadata": {
  "kernelspec": {
   "display_name": "Python 3 (ipykernel)",
   "language": "python",
   "name": "python3"
  },
  "language_info": {
   "codemirror_mode": {
    "name": "ipython",
    "version": 3
   },
   "file_extension": ".py",
   "mimetype": "text/x-python",
   "name": "python",
   "nbconvert_exporter": "python",
   "pygments_lexer": "ipython3",
   "version": "3.12.4"
  }
 },
 "nbformat": 4,
 "nbformat_minor": 5
}
