{
 "cells": [
  {
   "cell_type": "code",
   "execution_count": 101,
   "id": "91422329-3d71-4714-ae7f-06ed12c3129e",
   "metadata": {},
   "outputs": [],
   "source": [
    "import pandas as pd\n",
    "import numpy as np"
   ]
  },
  {
   "cell_type": "code",
   "execution_count": 103,
   "id": "56843270-40ae-4c83-849f-a63df605e9d9",
   "metadata": {},
   "outputs": [],
   "source": [
    "class OH:\n",
    "    def __init__(self,df):\n",
    "        self.df=df\n",
    "    def encode(self):\n",
    "        object_types=(self.df.dtypes=='object')\n",
    "        categorical_variables=list(object_types[object_types].index)\n",
    "        #print(categorical_variables)\n",
    "        series_list=[]\n",
    "        for i in categorical_variables:\n",
    "            d={}\n",
    "            m=self.df[i].to_dict(d)\n",
    "            series_list.append(m)\n",
    "        #print(series_list)\n",
    "        cardinality= 0\n",
    "        final=[]\n",
    "        d2={}\n",
    "        for i in series_list:\n",
    "            seen=[]\n",
    "            m=list(i.keys())\n",
    "            for j in range(len(m)):\n",
    "                if i.get(m[j]) not in seen:\n",
    "                    seen.append(i.get(m[j]))\n",
    "            final.append(seen)\n",
    "        #print(final)\n",
    "        for i in range(len(categorical_variables)):\n",
    "            d2[categorical_variables[i]]=final[i]\n",
    "        #print(d2)\n",
    "        cardinality={}\n",
    "        for i in d2.keys():\n",
    "            cardinality[i]=len(d2[i])\n",
    "        #print(cardinality)\n",
    "        for i in range(len(cardinality)):\n",
    "            for j in cardinality.keys():\n",
    "                for k in self.df[j]:\n",
    "                    self.df[k]=self.df[j]==k\n",
    "                    self.df[k]=self.df[k].astype('int64')\n",
    "        self.df=self.df.drop(categorical_variables,axis=1)\n",
    "        return self.df"
   ]
  }
 ],
 "metadata": {
  "kernelspec": {
   "display_name": "Python 3 (ipykernel)",
   "language": "python",
   "name": "python3"
  },
  "language_info": {
   "codemirror_mode": {
    "name": "ipython",
    "version": 3
   },
   "file_extension": ".py",
   "mimetype": "text/x-python",
   "name": "python",
   "nbconvert_exporter": "python",
   "pygments_lexer": "ipython3",
   "version": "3.12.4"
  }
 },
 "nbformat": 4,
 "nbformat_minor": 5
}
